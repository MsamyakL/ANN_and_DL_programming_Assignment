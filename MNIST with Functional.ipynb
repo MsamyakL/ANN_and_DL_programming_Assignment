{
 "cells": [
  {
   "cell_type": "code",
   "execution_count": 2,
   "metadata": {},
   "outputs": [
    {
     "name": "stdout",
     "output_type": "stream",
     "text": [
      "Epoch 1/3\n",
      "55000/55000 [==============================] - 35s 642us/sample - loss: 0.1739 - acc: 0.9477\n",
      "Epoch 2/3\n",
      "55000/55000 [==============================] - 36s 650us/sample - loss: 0.0499 - acc: 0.9849\n",
      "Epoch 3/3\n",
      "55000/55000 [==============================] - 36s 646us/sample - loss: 0.0347 - acc: 0.9886\n",
      "10000/10000 [==============================] - 2s 221us/sample - loss: 0.0293 - acc: 0.9899\n"
     ]
    }
   ],
   "source": [
    "import tensorflow as tf\n",
    "\n",
    "from tensorflow.python.keras.models import Model\n",
    "from tensorflow.python.keras.layers import Input,Reshape,Conv2D,MaxPooling2D,Flatten,Dense\n",
    "from mnist import MNIST\n",
    "data = MNIST(data_dir=\"data/MNIST/\")\n",
    "\n",
    "\n",
    "img_size = data.img_size\n",
    "img_size_flat = data.img_size_flat\n",
    "img_shape_full  = data.img_shape_full\n",
    "fc_size = 128\n",
    "num_classes = 10\n",
    "\n",
    "inputs = Input(shape = (img_size_flat,))\n",
    "\n",
    "net = inputs\n",
    "net = Reshape(img_shape_full)(net)\n",
    "net = Conv2D(kernel_size = 5 ,strides = 1, filters =16 ,padding  = 'same',activation = 'relu' )(net)\n",
    "net = MaxPooling2D(pool_size = 2 ,strides = 2)(net)\n",
    "net = Conv2D(kernel_size = 5 ,strides = 1, filters =36 ,padding  = 'same',activation = 'relu' )(net)\n",
    "net = MaxPooling2D(pool_size = 2 ,strides = 2)(net)\n",
    "net = Flatten()(net)\n",
    "net = Dense(fc_size,activation = 'relu')(net)\n",
    "outputs = Dense(num_classes,activation = 'softmax')(net)\n",
    "\n",
    "from tensorflow.python.keras.optimizers import Adam\n",
    "optimus = Adam(lr = 1e-3)\n",
    "\n",
    "\n",
    "model_sam = Model(inputs = inputs ,outputs = outputs )\n",
    "model_sam.compile(optimizer =optimus , loss = 'categorical_crossentropy' , metrics = (['accuracy']))\n",
    "model_sam.fit(x = data.x_train , y = data.y_train , epochs = 3,batch_size = 64)\n",
    "\n",
    "result = model_sam.evaluate(x = data.x_test , y = data.y_test)"
   ]
  },
  {
   "cell_type": "markdown",
   "metadata": {},
   "source": [
    "# Accuracy\n",
    "\n",
    "**It was found out to be a whooping 98.99%**"
   ]
  }
 ],
 "metadata": {
  "kernelspec": {
   "display_name": "Python 3",
   "language": "python",
   "name": "python3"
  },
  "language_info": {
   "codemirror_mode": {
    "name": "ipython",
    "version": 3
   },
   "file_extension": ".py",
   "mimetype": "text/x-python",
   "name": "python",
   "nbconvert_exporter": "python",
   "pygments_lexer": "ipython3",
   "version": "3.7.3"
  }
 },
 "nbformat": 4,
 "nbformat_minor": 2
}
