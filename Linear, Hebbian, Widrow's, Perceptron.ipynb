{
 "cells": [
  {
   "cell_type": "markdown",
   "metadata": {},
   "source": [
    "# Linear Computation\n",
    "\n",
    "Here weight matrix is calculated as BA+\n"
   ]
  },
  {
   "cell_type": "code",
   "execution_count": 20,
   "metadata": {},
   "outputs": [],
   "source": [
    "import numpy as np"
   ]
  },
  {
   "cell_type": "markdown",
   "metadata": {},
   "source": [
    "Function which calulates weights by linear computation "
   ]
  },
  {
   "cell_type": "code",
   "execution_count": 21,
   "metadata": {},
   "outputs": [],
   "source": [
    "def linear(A,B):\n",
    "    weights1 = np.matmul(B,np.linalg.pinv(A))\n",
    "    length = B.shape[1]\n",
    "    error = (1/length)*np.trace(np.matmul( np.matmul(B, (np.identity(length) - np.matmul(np.linalg.pinv(A), A))), np.transpose(B)))\n",
    "    print(\"Computed_error = \" ,error)\n",
    "    \n",
    "    return weights1"
   ]
  },
  {
   "cell_type": "code",
   "execution_count": 22,
   "metadata": {},
   "outputs": [
    {
     "name": "stdout",
     "output_type": "stream",
     "text": [
      "Computed_error =  2.7755575615628914e-17\n",
      "[[ 0.00000000e+00  1.00000000e+00 -1.66533454e-16  1.00000000e+00]]\n"
     ]
    }
   ],
   "source": [
    "A = np.array([[0,0],[0,1],[1,0],[1,1]]).T\n",
    "B = np.array([[0],[1],[0],[1]]).T\n",
    "\n",
    "weights1 = linear(A,B)\n",
    "\n",
    "print(np.matmul(weights1, A))"
   ]
  },
  {
   "cell_type": "markdown",
   "metadata": {},
   "source": [
    "# Hebbian Learning\n",
    "\n",
    "Here weights are computed by using B*(A).Transpose"
   ]
  },
  {
   "cell_type": "markdown",
   "metadata": {},
   "source": [
    "Function which calculates weights by hebbian learning"
   ]
  },
  {
   "cell_type": "code",
   "execution_count": 23,
   "metadata": {},
   "outputs": [],
   "source": [
    "def Hebbian(C,D):\n",
    "    weights2 = np.matmul(D,np.transpose(C))\n",
    "    return weights2"
   ]
  },
  {
   "cell_type": "code",
   "execution_count": 24,
   "metadata": {},
   "outputs": [
    {
     "name": "stdout",
     "output_type": "stream",
     "text": [
      "[[0 2 1 3]]\n"
     ]
    }
   ],
   "source": [
    "C = np.array([[0,0],[0,1],[1,0],[1,1]]).T\n",
    "D = np.array([[0],[1],[0],[1]]).T\n",
    "\n",
    "weights2 = Hebbian(C,D)\n",
    "\n",
    "print(np.matmul(weights2, C))"
   ]
  },
  {
   "cell_type": "markdown",
   "metadata": {},
   "source": [
    "# Widrow's Learning  \n",
    "\n",
    "Here weights are computed by BA+"
   ]
  },
  {
   "cell_type": "markdown",
   "metadata": {},
   "source": [
    "Function which computes weights by Windrow's Learning"
   ]
  },
  {
   "cell_type": "code",
   "execution_count": 42,
   "metadata": {},
   "outputs": [],
   "source": [
    "def Widrow(E,F,epochs ,lr):\n",
    "    weights3 = np.zeros((F[0].shape[0],E[0].shape[0]))\n",
    "    for i in range (epochs):\n",
    "        for j in range (len(E)):\n",
    "            delta = F[j] - np.matmul(weights3,E[j].T)\n",
    "            weights3 = weights3 + lr * np.matmul(delta, E[j].reshape((1,2)))\n",
    "    return weights3"
   ]
  },
  {
   "cell_type": "code",
   "execution_count": 43,
   "metadata": {},
   "outputs": [
    {
     "name": "stdout",
     "output_type": "stream",
     "text": [
      "[[0.         0.80694125 0.15561969 0.96256094]]\n"
     ]
    }
   ],
   "source": [
    "E = np.array([[0,0],[0,1],[1,0],[1,1]])\n",
    "F = np.array([[0],[1],[0],[1]])\n",
    "\n",
    "weights3 = Widrow(E, F, 10, 0.1)    \n",
    "\n",
    "print(np.matmul(weights3, np.transpose(E)))"
   ]
  },
  {
   "cell_type": "markdown",
   "metadata": {},
   "source": [
    "# Perceptron Learning Law"
   ]
  },
  {
   "cell_type": "markdown",
   "metadata": {},
   "source": [
    "Function which generates Non-linearity (unit step function)"
   ]
  },
  {
   "cell_type": "code",
   "execution_count": 27,
   "metadata": {},
   "outputs": [],
   "source": [
    "def unit_function(inputs):\n",
    "    if (inputs <= 0):\n",
    "        return 0\n",
    "    else:\n",
    "        return 1"
   ]
  },
  {
   "cell_type": "code",
   "execution_count": 33,
   "metadata": {},
   "outputs": [],
   "source": [
    "def Perceptron(Input,ouput,lr = 0.1):\n",
    "    weights4 = np.array([1,0,0])\n",
    "    counter = 0\n",
    "    while counter !=4:\n",
    "        counter =0\n",
    "        for i in range (0,len(Input)):\n",
    "            outputs = output[i]\n",
    "            \n",
    "            temp = np.matmul(np.transpose(weights4),Input[i])\n",
    "            expected_output = unit_function(temp)\n",
    "            \n",
    "            if(expected_output == outputs):\n",
    "                counter += 1\n",
    "            \n",
    "            weights4 = weights4 -lr* (expected_output-outputs)*Input[i]\n",
    "            weights4[0] = 1\n",
    "        print(weights4)"
   ]
  },
  {
   "cell_type": "code",
   "execution_count": 37,
   "metadata": {},
   "outputs": [
    {
     "name": "stdout",
     "output_type": "stream",
     "text": [
      "[1.  0.1 0.2]\n",
      "[1.  0.2 0.4]\n",
      "[1.  0.3 0.6]\n",
      "[1.  0.4 0.8]\n",
      "[1.  0.4 0.9]\n",
      "[1.  0.4 1. ]\n",
      "[1.  0.4 1.1]\n",
      "[1.  0.4 1.1]\n"
     ]
    }
   ],
   "source": [
    "Input = np.array([[-1, 0, 0], [-1, 0, 1], [-1, 1, 0], [-1, 1, 1]])\n",
    "\n",
    "output = np.array([0,1,0,1])\n",
    "\n",
    "Perceptron(Input,output,lr = 0.1)"
   ]
  },
  {
   "cell_type": "code",
   "execution_count": null,
   "metadata": {},
   "outputs": [],
   "source": []
  }
 ],
 "metadata": {
  "kernelspec": {
   "display_name": "Python 3",
   "language": "python",
   "name": "python3"
  },
  "language_info": {
   "codemirror_mode": {
    "name": "ipython",
    "version": 3
   },
   "file_extension": ".py",
   "mimetype": "text/x-python",
   "name": "python",
   "nbconvert_exporter": "python",
   "pygments_lexer": "ipython3",
   "version": "3.7.3"
  }
 },
 "nbformat": 4,
 "nbformat_minor": 2
}
